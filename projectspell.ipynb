{
 "cells": [
  {
   "cell_type": "code",
   "execution_count": 91,
   "metadata": {},
   "outputs": [],
   "source": [
    "''' fd=open('big.txt','r')\n",
    "txt=fd.read()\n",
    "fd.close() '''\n",
    "\n",
    "import re\n",
    "import pandas as pd\n"
   ]
  },
  {
   "cell_type": "markdown",
   "metadata": {},
   "source": [
    "## Finding Unique Words"
   ]
  },
  {
   "cell_type": "code",
   "execution_count": 12,
   "metadata": {},
   "outputs": [
    {
     "name": "stderr",
     "output_type": "stream",
     "text": [
      "<>:5: SyntaxWarning: invalid escape sequence '\\w'\n",
      "<>:5: SyntaxWarning: invalid escape sequence '\\w'\n",
      "C:\\Users\\Dell\\AppData\\Local\\Temp\\ipykernel_37876\\1453892446.py:5: SyntaxWarning: invalid escape sequence '\\w'\n",
      "  words += re.findall('\\w+',line.lower())\n"
     ]
    },
    {
     "name": "stdout",
     "output_type": "stream",
     "text": [
      "1115585\n",
      "32198\n"
     ]
    }
   ],
   "source": [
    "with open('big.txt','r') as fd:\n",
    "    lines=fd.readlines()\n",
    "    words=[]\n",
    "    for line in lines:\n",
    "        words += re.findall('\\w+',line.lower())\n",
    "\n",
    "print(len(words))\n",
    "vocab = set(words)\n",
    "print(len(vocab))"
   ]
  },
  {
   "cell_type": "markdown",
   "metadata": {},
   "source": [
    "### Finding Probability Distribution"
   ]
  },
  {
   "cell_type": "code",
   "execution_count": 13,
   "metadata": {},
   "outputs": [
    {
     "data": {
      "text/plain": [
       "0"
      ]
     },
     "execution_count": 13,
     "metadata": {},
     "output_type": "execute_result"
    }
   ],
   "source": [
    "words.count('The')"
   ]
  },
  {
   "cell_type": "code",
   "execution_count": 14,
   "metadata": {},
   "outputs": [
    {
     "data": {
      "text/plain": [
       "79809"
      ]
     },
     "execution_count": 14,
     "metadata": {},
     "output_type": "execute_result"
    }
   ],
   "source": [
    "words.count('the')"
   ]
  },
  {
   "cell_type": "code",
   "execution_count": 18,
   "metadata": {},
   "outputs": [],
   "source": [
    "word_prob={}\n",
    "\n",
    "for a in vocab:\n",
    "    word_prob[a] = float(words.count(a)/len(words))\n",
    "    \n",
    "    \n",
    "    "
   ]
  },
  {
   "cell_type": "code",
   "execution_count": 19,
   "metadata": {},
   "outputs": [
    {
     "data": {
      "text/plain": [
       "32198"
      ]
     },
     "execution_count": 19,
     "metadata": {},
     "output_type": "execute_result"
    }
   ],
   "source": [
    "len(word_prob)"
   ]
  },
  {
   "cell_type": "markdown",
   "metadata": {},
   "source": [
    "## Spell Checking Architecture"
   ]
  },
  {
   "cell_type": "code",
   "execution_count": 20,
   "metadata": {},
   "outputs": [
    {
     "data": {
      "text/plain": [
       "9.053545897443941e-05"
      ]
     },
     "execution_count": 20,
     "metadata": {},
     "output_type": "execute_result"
    }
   ],
   "source": [
    "word_prob['sherlock']"
   ]
  },
  {
   "cell_type": "markdown",
   "metadata": {},
   "source": [
    "### Text Preprocessing\n",
    "\n",
    "Splitting"
   ]
  },
  {
   "cell_type": "code",
   "execution_count": 81,
   "metadata": {},
   "outputs": [
    {
     "data": {
      "text/plain": [
       "[('', 'OM'), ('O', 'M'), ('OM', '')]"
      ]
     },
     "execution_count": 81,
     "metadata": {},
     "output_type": "execute_result"
    }
   ],
   "source": [
    "def split(w):\n",
    "    \n",
    "    parts=[]\n",
    "\n",
    "    for i in range(len(w)+1):  \n",
    "       parts += [(w[:i],w[i:])]\n",
    "    \n",
    "    return parts\n",
    "\n",
    "split('OM')"
   ]
  },
  {
   "cell_type": "markdown",
   "metadata": {},
   "source": [
    "1) Delete\n",
    "\n",
    "   'loave' -> 'love'"
   ]
  },
  {
   "cell_type": "code",
   "execution_count": 82,
   "metadata": {},
   "outputs": [
    {
     "data": {
      "text/plain": [
       "['eallo', 'Hallo', 'Hello', 'Healo', 'Healo', 'Heall', 'Heallo']"
      ]
     },
     "execution_count": 82,
     "metadata": {},
     "output_type": "execute_result"
    }
   ],
   "source": [
    "def delete(w):\n",
    "    \n",
    "    output=[]\n",
    "    for l,r in split(w):\n",
    "        output.append(l + r[1:])\n",
    "    return output\n",
    "\n",
    "delete('Heallo')"
   ]
  },
  {
   "cell_type": "markdown",
   "metadata": {},
   "source": [
    "2. Swap\n",
    "\n",
    "   lvoe -> love"
   ]
  },
  {
   "cell_type": "code",
   "execution_count": 83,
   "metadata": {},
   "outputs": [
    {
     "data": {
      "text/plain": [
       "['MO']"
      ]
     },
     "execution_count": 83,
     "metadata": {},
     "output_type": "execute_result"
    }
   ],
   "source": [
    "def swap(w):\n",
    "    \n",
    "    output=[]\n",
    "    for l,r in split(w):\n",
    "        if(len(r)>1):\n",
    "            output.append(l + r[1] + r[0] + r[2:] )\n",
    "    return output\n",
    "\n",
    "swap('OM')"
   ]
  },
  {
   "cell_type": "markdown",
   "metadata": {},
   "source": [
    "3. Replacement\n",
    "\n",
    "   lave -> love"
   ]
  },
  {
   "cell_type": "code",
   "execution_count": 84,
   "metadata": {},
   "outputs": [
    {
     "data": {
      "text/plain": [
       "130"
      ]
     },
     "execution_count": 84,
     "metadata": {},
     "output_type": "execute_result"
    }
   ],
   "source": [
    "def replace(w):\n",
    "\n",
    "    output=[]\n",
    "    alphabets = 'abcdefghijklmnopqrstuvwxyz'\n",
    "    for l,r in split(w):\n",
    "        for char in alphabets:\n",
    "            output.append(l+char+r[1:])\n",
    "    return output\n",
    "\n",
    "len(replace('lave'))\n"
   ]
  },
  {
   "cell_type": "markdown",
   "metadata": {},
   "source": [
    "4. Insert\n",
    "\n",
    "   lve -> love"
   ]
  },
  {
   "cell_type": "code",
   "execution_count": 85,
   "metadata": {},
   "outputs": [
    {
     "data": {
      "text/plain": [
       "['alve',\n",
       " 'blve',\n",
       " 'clve',\n",
       " 'dlve',\n",
       " 'elve',\n",
       " 'flve',\n",
       " 'glve',\n",
       " 'hlve',\n",
       " 'ilve',\n",
       " 'jlve',\n",
       " 'klve',\n",
       " 'llve',\n",
       " 'mlve',\n",
       " 'nlve',\n",
       " 'olve',\n",
       " 'plve',\n",
       " 'qlve',\n",
       " 'rlve',\n",
       " 'slve',\n",
       " 'tlve',\n",
       " 'ulve',\n",
       " 'vlve',\n",
       " 'wlve',\n",
       " 'xlve',\n",
       " 'ylve',\n",
       " 'zlve',\n",
       " 'lave',\n",
       " 'lbve',\n",
       " 'lcve',\n",
       " 'ldve',\n",
       " 'leve',\n",
       " 'lfve',\n",
       " 'lgve',\n",
       " 'lhve',\n",
       " 'live',\n",
       " 'ljve',\n",
       " 'lkve',\n",
       " 'llve',\n",
       " 'lmve',\n",
       " 'lnve',\n",
       " 'love',\n",
       " 'lpve',\n",
       " 'lqve',\n",
       " 'lrve',\n",
       " 'lsve',\n",
       " 'ltve',\n",
       " 'luve',\n",
       " 'lvve',\n",
       " 'lwve',\n",
       " 'lxve',\n",
       " 'lyve',\n",
       " 'lzve',\n",
       " 'lvae',\n",
       " 'lvbe',\n",
       " 'lvce',\n",
       " 'lvde',\n",
       " 'lvee',\n",
       " 'lvfe',\n",
       " 'lvge',\n",
       " 'lvhe',\n",
       " 'lvie',\n",
       " 'lvje',\n",
       " 'lvke',\n",
       " 'lvle',\n",
       " 'lvme',\n",
       " 'lvne',\n",
       " 'lvoe',\n",
       " 'lvpe',\n",
       " 'lvqe',\n",
       " 'lvre',\n",
       " 'lvse',\n",
       " 'lvte',\n",
       " 'lvue',\n",
       " 'lvve',\n",
       " 'lvwe',\n",
       " 'lvxe',\n",
       " 'lvye',\n",
       " 'lvze',\n",
       " 'lvea',\n",
       " 'lveb',\n",
       " 'lvec',\n",
       " 'lved',\n",
       " 'lvee',\n",
       " 'lvef',\n",
       " 'lveg',\n",
       " 'lveh',\n",
       " 'lvei',\n",
       " 'lvej',\n",
       " 'lvek',\n",
       " 'lvel',\n",
       " 'lvem',\n",
       " 'lven',\n",
       " 'lveo',\n",
       " 'lvep',\n",
       " 'lveq',\n",
       " 'lver',\n",
       " 'lves',\n",
       " 'lvet',\n",
       " 'lveu',\n",
       " 'lvev',\n",
       " 'lvew',\n",
       " 'lvex',\n",
       " 'lvey',\n",
       " 'lvez']"
      ]
     },
     "execution_count": 85,
     "metadata": {},
     "output_type": "execute_result"
    }
   ],
   "source": [
    "def insert(w):\n",
    "    \n",
    "    output=[]\n",
    "    alphabets = 'abcdefghijklmnopqrstuvwxyz'\n",
    "    \n",
    "    for l,r in split(w):\n",
    "        for c in alphabets:\n",
    "            output.append(l+c+r)\n",
    "    return output\n",
    "    \n",
    "insert('lve')"
   ]
  },
  {
   "cell_type": "markdown",
   "metadata": {},
   "source": [
    "# Prediction"
   ]
  },
  {
   "cell_type": "markdown",
   "metadata": {},
   "source": [
    "#### Combining possible words"
   ]
  },
  {
   "cell_type": "code",
   "execution_count": 86,
   "metadata": {},
   "outputs": [],
   "source": [
    "def edit(word):\n",
    "    return set(insert(word)+delete(word)+swap(word)+replace(word))"
   ]
  },
  {
   "cell_type": "markdown",
   "metadata": {},
   "source": [
    "#### Predicting the Word"
   ]
  },
  {
   "cell_type": "code",
   "execution_count": 120,
   "metadata": {},
   "outputs": [],
   "source": [
    "def spell_check(word,count=5):\n",
    "    output=[]  \n",
    "    suggested_words=edit(word)\n",
    "    for i in suggested_words:\n",
    "        if i in word_prob.keys():\n",
    "           output.append([i, word_prob[i]])\n",
    "    list = (pd.DataFrame(output,columns=['word','prob']).sort_values(by='prob',ascending=False).head(count)['word'].values)\n",
    "    return list"
   ]
  },
  {
   "cell_type": "code",
   "execution_count": 121,
   "metadata": {},
   "outputs": [
    {
     "data": {
      "text/plain": [
       "array(['the', 'that', 'than', 'tea', 'ha'], dtype=object)"
      ]
     },
     "execution_count": 121,
     "metadata": {},
     "output_type": "execute_result"
    }
   ],
   "source": [
    "spell_check('tha')"
   ]
  },
  {
   "cell_type": "code",
   "execution_count": 139,
   "metadata": {},
   "outputs": [
    {
     "data": {
      "text/plain": [
       "array([], dtype=object)"
      ]
     },
     "execution_count": 139,
     "metadata": {},
     "output_type": "execute_result"
    }
   ],
   "source": [
    "spell_check('fameli')"
   ]
  },
  {
   "cell_type": "markdown",
   "metadata": {},
   "source": [
    "# Prediction(Level-2)"
   ]
  },
  {
   "cell_type": "code",
   "execution_count": 137,
   "metadata": {},
   "outputs": [],
   "source": [
    "def edit_2(word, count=5):\n",
    "    output2=[]\n",
    "    suggested2=[]\n",
    "    \n",
    "    for e1 in edit(word):\n",
    "        output2 += edit(e1)\n",
    "    output2 += edit(word)\n",
    "    \n",
    "    output2 = set(output2)\n",
    "    \n",
    "    for wrd in output2:\n",
    "        if wrd in word_prob.keys():\n",
    "            suggested2.append([wrd,word_prob[wrd]])\n",
    "    list2 = (pd.DataFrame(suggested2,columns=['word','prob']).sort_values(by='prob',ascending=False).head(count)['word'].values) \n",
    "    return list2\n",
    "        "
   ]
  },
  {
   "cell_type": "code",
   "execution_count": 138,
   "metadata": {},
   "outputs": [
    {
     "data": {
      "text/plain": [
       "array(['have', 'love', 'gave', 'leave', 'late'], dtype=object)"
      ]
     },
     "execution_count": 138,
     "metadata": {},
     "output_type": "execute_result"
    }
   ],
   "source": [
    "edit_2('loave')"
   ]
  },
  {
   "cell_type": "code",
   "execution_count": 140,
   "metadata": {},
   "outputs": [
    {
     "data": {
      "text/plain": [
       "array(['family', 'namely', 'fame', 'camelia', 'camel'], dtype=object)"
      ]
     },
     "execution_count": 140,
     "metadata": {},
     "output_type": "execute_result"
    }
   ],
   "source": [
    "edit_2('fameli')"
   ]
  }
 ],
 "metadata": {
  "kernelspec": {
   "display_name": ".venv",
   "language": "python",
   "name": "python3"
  },
  "language_info": {
   "codemirror_mode": {
    "name": "ipython",
    "version": 3
   },
   "file_extension": ".py",
   "mimetype": "text/x-python",
   "name": "python",
   "nbconvert_exporter": "python",
   "pygments_lexer": "ipython3",
   "version": "3.12.4"
  }
 },
 "nbformat": 4,
 "nbformat_minor": 2
}
